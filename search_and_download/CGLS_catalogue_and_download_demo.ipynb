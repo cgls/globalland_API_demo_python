{
 "cells": [
  {
   "cell_type": "markdown",
   "metadata": {},
   "source": [
    "## Query Global Land product catalogue via OpenSearch API and download the products\n",
    "\n",
    "This notebook shows how to query the Global Land product catalogue service, that implements a standardized [OpenSearch interface](http://docs.opengeospatial.org/is/17-047r1/17-047r1.html).\n",
    "\n",
    "OpenSearch is a self-describing search. This means that the service describes how it can be used, which search filters (keys and allowed values) are available.\n",
    "For example: \n",
    "* [overall API description](https://globalland.vito.be/catalogue/description)\n",
    "* [description for searching Burnt Area collection](https://globalland.vito.be/catalogue/description?collection=clms_global_ba_300m_v3_daily_netcdf)\n",
    "\n",
    "The catalogue service can be used in a [Python client](https://github.com/VITObelgium/terracatalogueclient), that is available from VITO's [Terrascope](https://terrascope.be/en) platform, which allows for easy integration in Python notebooks and Python-based processing chains.\n",
    "\n",
    "In this demo, we'll show you how to search for Global Land products through this OpenSearch API and then download them.\n",
    "\n",
    "**Important!**\n",
    "We'll use the new collection of daily Burnt Area 300m v3.1.1 products as example. This API is a recent development - more product collections will become available in the course of 2023."
   ]
  },
  {
   "cell_type": "markdown",
   "metadata": {},
   "source": [
    "### Table of contents\n",
    "* [Install & import packages](#install-import)\n",
    "* [Discover collections](#discover-collections)\n",
    "* [Search products](#search-products)\n",
    "* [Download products](#download-products)"
   ]
  },
  {
   "cell_type": "markdown",
   "metadata": {},
   "source": [
    "#### Install & import packages <a class=\"anchor\" id=\"install-import\"></a>"
   ]
  },
  {
   "cell_type": "markdown",
   "metadata": {},
   "source": [
    "Let's start with installing the Python catalogue client from the python package repository:"
   ]
  },
  {
   "cell_type": "code",
   "execution_count": null,
   "metadata": {},
   "outputs": [],
   "source": [
    "!pip3 install --user --quiet --index-url=https://artifactory.vgt.vito.be/api/pypi/python-packages/simple terracatalogueclient==0.1.14"
   ]
  },
  {
   "cell_type": "markdown",
   "metadata": {},
   "source": [
    "On the Terrascope virtual machines and Jupyter notebook environment, the catalogue client package is pre-installed for your convenience."
   ]
  },
  {
   "cell_type": "markdown",
   "metadata": {},
   "source": [
    "Next, we import some required packages and initialize the catalogue client."
   ]
  },
  {
   "cell_type": "code",
   "execution_count": 1,
   "metadata": {},
   "outputs": [],
   "source": [
    "from terracatalogueclient import Catalogue\n",
    "from terracatalogueclient.config import CatalogueConfig"
   ]
  },
  {
   "cell_type": "markdown",
   "metadata": {},
   "source": [
    "Copy the configuration file from the Github repository to the same folder.\n",
    "Then use it to configure the catalogue client to query Global Land's catalogue."
   ]
  },
  {
   "cell_type": "code",
   "execution_count": 2,
   "metadata": {},
   "outputs": [],
   "source": [
    "config = CatalogueConfig.from_file(\"terracatalog_config_GlobalLand.txt\")\n",
    "catalogue = Catalogue(config)"
   ]
  },
  {
   "cell_type": "markdown",
   "metadata": {},
   "source": [
    "#### Discover collections <a class=\"anchor\" id=\"discover-collections\"></a>"
   ]
  },
  {
   "cell_type": "markdown",
   "metadata": {},
   "source": [
    "The get_collections() call can be used to discover which collections of Global Land products.\n",
    "At this moment, only the products for the daily Burnt Area v3.1.1 collection are available. All other Global Land collections will be added to this API."
   ]
  },
  {
   "cell_type": "code",
   "execution_count": 3,
   "metadata": {},
   "outputs": [
    {
     "data": {
      "text/html": [
       "<style  type=\"text/css\" >\n",
       "    #T_65ab7502_1982_11ee_a97e_487b6bac3345row0_col0 {\n",
       "            text-align:  left;\n",
       "        }    #T_65ab7502_1982_11ee_a97e_487b6bac3345row0_col1 {\n",
       "            text-align:  left;\n",
       "        }    #T_65ab7502_1982_11ee_a97e_487b6bac3345row1_col0 {\n",
       "            text-align:  left;\n",
       "        }    #T_65ab7502_1982_11ee_a97e_487b6bac3345row1_col1 {\n",
       "            text-align:  left;\n",
       "        }    #T_65ab7502_1982_11ee_a97e_487b6bac3345row2_col0 {\n",
       "            text-align:  left;\n",
       "        }    #T_65ab7502_1982_11ee_a97e_487b6bac3345row2_col1 {\n",
       "            text-align:  left;\n",
       "        }</style><table id=\"T_65ab7502_1982_11ee_a97e_487b6bac3345\" ><thead>    <tr>        <th class=\"blank level0\" ></th>        <th class=\"col_heading level0 col0\" >Identifier</th>        <th class=\"col_heading level0 col1\" >Description</th>    </tr></thead><tbody>\n",
       "                <tr>\n",
       "                        <th id=\"T_65ab7502_1982_11ee_a97e_487b6bac3345level0_row0\" class=\"row_heading level0 row0\" >0</th>\n",
       "                        <td id=\"T_65ab7502_1982_11ee_a97e_487b6bac3345row0_col0\" class=\"data row0 col0\" >clms_global_ba_300m_v3_daily_netcdf</td>\n",
       "                        <td id=\"T_65ab7502_1982_11ee_a97e_487b6bac3345row0_col1\" class=\"data row0 col1\" >Burnt Area: global daily (raster 333m) - version 3, July 2023</td>\n",
       "            </tr>\n",
       "            <tr>\n",
       "                        <th id=\"T_65ab7502_1982_11ee_a97e_487b6bac3345level0_row1\" class=\"row_heading level0 row1\" >1</th>\n",
       "                        <td id=\"T_65ab7502_1982_11ee_a97e_487b6bac3345row1_col0\" class=\"data row1 col0\" >clms_global_ba_300m_v3_monthly_netcdf</td>\n",
       "                        <td id=\"T_65ab7502_1982_11ee_a97e_487b6bac3345row1_col1\" class=\"data row1 col1\" >Burnt Area: global monthly (raster 333m) - version 3, Sept 2023</td>\n",
       "            </tr>\n",
       "            <tr>\n",
       "                        <th id=\"T_65ab7502_1982_11ee_a97e_487b6bac3345level0_row2\" class=\"row_heading level0 row2\" >2</th>\n",
       "                        <td id=\"T_65ab7502_1982_11ee_a97e_487b6bac3345row2_col0\" class=\"data row2 col0\" >clms_global_ndvi_300m_v2_10daily_netcdf</td>\n",
       "                        <td id=\"T_65ab7502_1982_11ee_a97e_487b6bac3345row2_col1\" class=\"data row2 col1\" >Normalized Difference Vegetation Index: global 10-daily (raster 333m) - version 2, Dec 2020</td>\n",
       "            </tr>\n",
       "    </tbody></table>"
      ],
      "text/plain": [
       "<pandas.io.formats.style.Styler at 0x7f14323499e8>"
      ]
     },
     "execution_count": 3,
     "metadata": {},
     "output_type": "execute_result"
    }
   ],
   "source": [
    "import pandas as pd\n",
    "collections = catalogue.get_collections()\n",
    "\n",
    "rows = []\n",
    "for c in collections:\n",
    "    rows.append([c.id, c.properties['title']])\n",
    "\n",
    "df = pd.DataFrame(data = rows, columns = ['Identifier', 'Description'])\n",
    "df.style.set_properties(**{'text-align': 'left'})"
   ]
  },
  {
   "cell_type": "markdown",
   "metadata": {},
   "source": [
    "#### Search products <a class=\"anchor\" id=\"search-products\"></a>"
   ]
  },
  {
   "cell_type": "markdown",
   "metadata": {},
   "source": [
    "Using the above collection identifier, let's search for the available burnt area products.\n",
    "\n",
    "The get_products() call supports filtering time period that the product covers (start/end parameters), or date when the file was last updated (modificationDate)"
   ]
  },
  {
   "cell_type": "code",
   "execution_count": 4,
   "metadata": {},
   "outputs": [
    {
     "data": {
      "text/html": [
       "<style  type=\"text/css\" >\n",
       "    #T_6718ada6_1982_11ee_a97e_487b6bac3345row0_col0 {\n",
       "            text-align:  left;\n",
       "        }    #T_6718ada6_1982_11ee_a97e_487b6bac3345row0_col1 {\n",
       "            text-align:  left;\n",
       "        }    #T_6718ada6_1982_11ee_a97e_487b6bac3345row0_col2 {\n",
       "            text-align:  left;\n",
       "        }    #T_6718ada6_1982_11ee_a97e_487b6bac3345row1_col0 {\n",
       "            text-align:  left;\n",
       "        }    #T_6718ada6_1982_11ee_a97e_487b6bac3345row1_col1 {\n",
       "            text-align:  left;\n",
       "        }    #T_6718ada6_1982_11ee_a97e_487b6bac3345row1_col2 {\n",
       "            text-align:  left;\n",
       "        }    #T_6718ada6_1982_11ee_a97e_487b6bac3345row2_col0 {\n",
       "            text-align:  left;\n",
       "        }    #T_6718ada6_1982_11ee_a97e_487b6bac3345row2_col1 {\n",
       "            text-align:  left;\n",
       "        }    #T_6718ada6_1982_11ee_a97e_487b6bac3345row2_col2 {\n",
       "            text-align:  left;\n",
       "        }    #T_6718ada6_1982_11ee_a97e_487b6bac3345row3_col0 {\n",
       "            text-align:  left;\n",
       "        }    #T_6718ada6_1982_11ee_a97e_487b6bac3345row3_col1 {\n",
       "            text-align:  left;\n",
       "        }    #T_6718ada6_1982_11ee_a97e_487b6bac3345row3_col2 {\n",
       "            text-align:  left;\n",
       "        }    #T_6718ada6_1982_11ee_a97e_487b6bac3345row4_col0 {\n",
       "            text-align:  left;\n",
       "        }    #T_6718ada6_1982_11ee_a97e_487b6bac3345row4_col1 {\n",
       "            text-align:  left;\n",
       "        }    #T_6718ada6_1982_11ee_a97e_487b6bac3345row4_col2 {\n",
       "            text-align:  left;\n",
       "        }</style><table id=\"T_6718ada6_1982_11ee_a97e_487b6bac3345\" ><thead>    <tr>        <th class=\"blank level0\" ></th>        <th class=\"col_heading level0 col0\" >Identifier</th>        <th class=\"col_heading level0 col1\" >URL</th>        <th class=\"col_heading level0 col2\" >Size (MB)</th>    </tr></thead><tbody>\n",
       "                <tr>\n",
       "                        <th id=\"T_6718ada6_1982_11ee_a97e_487b6bac3345level0_row0\" class=\"row_heading level0 row0\" >0</th>\n",
       "                        <td id=\"T_6718ada6_1982_11ee_a97e_487b6bac3345row0_col0\" class=\"data row0 col0\" >c_gls_BA300-NRT_202306260000_GLOBE_S3_V3.1.1</td>\n",
       "                        <td id=\"T_6718ada6_1982_11ee_a97e_487b6bac3345row0_col1\" class=\"data row0 col1\" >https://globalland.vito.be/download/netcdf/burnt_area/ba_300m_v3_daily/2023/20230626/c_gls_BA300-NRT_202306260000_GLOBE_S3_V3.1.1.nc</td>\n",
       "                        <td id=\"T_6718ada6_1982_11ee_a97e_487b6bac3345row0_col2\" class=\"data row0 col2\" >58.9173</td>\n",
       "            </tr>\n",
       "            <tr>\n",
       "                        <th id=\"T_6718ada6_1982_11ee_a97e_487b6bac3345level0_row1\" class=\"row_heading level0 row1\" >1</th>\n",
       "                        <td id=\"T_6718ada6_1982_11ee_a97e_487b6bac3345row1_col0\" class=\"data row1 col0\" >c_gls_BA300-NRT_202306270000_GLOBE_S3_V3.1.1</td>\n",
       "                        <td id=\"T_6718ada6_1982_11ee_a97e_487b6bac3345row1_col1\" class=\"data row1 col1\" >https://globalland.vito.be/download/netcdf/burnt_area/ba_300m_v3_daily/2023/20230627/c_gls_BA300-NRT_202306270000_GLOBE_S3_V3.1.1.nc</td>\n",
       "                        <td id=\"T_6718ada6_1982_11ee_a97e_487b6bac3345row1_col2\" class=\"data row1 col2\" >58.956</td>\n",
       "            </tr>\n",
       "            <tr>\n",
       "                        <th id=\"T_6718ada6_1982_11ee_a97e_487b6bac3345level0_row2\" class=\"row_heading level0 row2\" >2</th>\n",
       "                        <td id=\"T_6718ada6_1982_11ee_a97e_487b6bac3345row2_col0\" class=\"data row2 col0\" >c_gls_BA300-NRT_202306280000_GLOBE_S3_V3.1.1</td>\n",
       "                        <td id=\"T_6718ada6_1982_11ee_a97e_487b6bac3345row2_col1\" class=\"data row2 col1\" >https://globalland.vito.be/download/netcdf/burnt_area/ba_300m_v3_daily/2023/20230628/c_gls_BA300-NRT_202306280000_GLOBE_S3_V3.1.1.nc</td>\n",
       "                        <td id=\"T_6718ada6_1982_11ee_a97e_487b6bac3345row2_col2\" class=\"data row2 col2\" >58.3691</td>\n",
       "            </tr>\n",
       "            <tr>\n",
       "                        <th id=\"T_6718ada6_1982_11ee_a97e_487b6bac3345level0_row3\" class=\"row_heading level0 row3\" >3</th>\n",
       "                        <td id=\"T_6718ada6_1982_11ee_a97e_487b6bac3345row3_col0\" class=\"data row3 col0\" >c_gls_BA300-NRT_202306290000_GLOBE_S3_V3.1.1</td>\n",
       "                        <td id=\"T_6718ada6_1982_11ee_a97e_487b6bac3345row3_col1\" class=\"data row3 col1\" >https://globalland.vito.be/download/netcdf/burnt_area/ba_300m_v3_daily/2023/20230629/c_gls_BA300-NRT_202306290000_GLOBE_S3_V3.1.1.nc</td>\n",
       "                        <td id=\"T_6718ada6_1982_11ee_a97e_487b6bac3345row3_col2\" class=\"data row3 col2\" >58.9934</td>\n",
       "            </tr>\n",
       "            <tr>\n",
       "                        <th id=\"T_6718ada6_1982_11ee_a97e_487b6bac3345level0_row4\" class=\"row_heading level0 row4\" >4</th>\n",
       "                        <td id=\"T_6718ada6_1982_11ee_a97e_487b6bac3345row4_col0\" class=\"data row4 col0\" >c_gls_BA300-NRT_202306300000_GLOBE_S3_V3.1.1</td>\n",
       "                        <td id=\"T_6718ada6_1982_11ee_a97e_487b6bac3345row4_col1\" class=\"data row4 col1\" >https://globalland.vito.be/download/netcdf/burnt_area/ba_300m_v3_daily/2023/20230630/c_gls_BA300-NRT_202306300000_GLOBE_S3_V3.1.1.nc</td>\n",
       "                        <td id=\"T_6718ada6_1982_11ee_a97e_487b6bac3345row4_col2\" class=\"data row4 col2\" >58.3554</td>\n",
       "            </tr>\n",
       "    </tbody></table>"
      ],
      "text/plain": [
       "<pandas.io.formats.style.Styler at 0x7f14a4613048>"
      ]
     },
     "execution_count": 4,
     "metadata": {},
     "output_type": "execute_result"
    }
   ],
   "source": [
    "import pandas as pd\n",
    "import datetime as dt\n",
    "\n",
    "rows = []\n",
    "products = catalogue.get_products(\n",
    "    \"clms_global_ba_300m_v3_daily_netcdf\",\n",
    "    start=dt.date(2023, 6, 26),\n",
    "    end=dt.date(2023, 6, 30),\n",
    ")\n",
    "for product in products:\n",
    "    rows.append([product.id, product.data[0].href, (product.data[0].length/(1024*1024))])\n",
    "\n",
    "df = pd.DataFrame(data = rows, columns = ['Identifier', 'URL', 'Size (MB)'])\n",
    "df.style.set_properties(**{'text-align': 'left'})"
   ]
  },
  {
   "cell_type": "markdown",
   "metadata": {},
   "source": [
    "For a list of available search options, see the opensearch description document or the available help:\n",
    "\n",
    "*help(catalogue.get_products)*"
   ]
  },
  {
   "cell_type": "markdown",
   "metadata": {},
   "source": [
    "#### Download products <a class=\"anchor\" id=\"download-products\"></a>"
   ]
  },
  {
   "cell_type": "markdown",
   "metadata": {},
   "source": [
    "The product download is free and fully open - it does not require any username or password.\n",
    "\n",
    "Note that the above get_products() call returns a Python generator! \n",
    "If you want to be able to iterate over the results more than once, you can convert it to a list.\n",
    "Mind that this will load all results in memory, which could be huge depending on the number of results returned!"
   ]
  },
  {
   "cell_type": "code",
   "execution_count": 5,
   "metadata": {},
   "outputs": [],
   "source": [
    "product_list = list(catalogue.get_products(\n",
    "    \"clms_global_ba_300m_v3_daily_netcdf\",\n",
    "    start=dt.date(2023, 6, 26),\n",
    "    end=dt.date(2023, 6, 30),\n",
    "))"
   ]
  },
  {
   "cell_type": "markdown",
   "metadata": {},
   "source": [
    "Let's actually download the files to the directory where this notebook resides.\n",
    "\n",
    "Depending on the connection speed and data volume, this can take a few minutes."
   ]
  },
  {
   "cell_type": "code",
   "execution_count": 6,
   "metadata": {},
   "outputs": [
    {
     "name": "stdin",
     "output_type": "stream",
     "text": [
      "You are about to download 307.85 MB, do you want to continue? [Y/n]  Y\n"
     ]
    }
   ],
   "source": [
    "catalogue.download_products(product_list, './')"
   ]
  },
  {
   "cell_type": "markdown",
   "metadata": {},
   "source": [
    "Finally, let's check if the data files are downloaded.\n",
    "\n",
    "The download_products() call stores the downloaded files in folders, named after the product identifier."
   ]
  },
  {
   "cell_type": "code",
   "execution_count": 7,
   "metadata": {},
   "outputs": [
    {
     "data": {
      "text/plain": [
       "['c_gls_BA300-NRT_202306260000_GLOBE_S3_V3.1.1.nc']"
      ]
     },
     "execution_count": 7,
     "metadata": {},
     "output_type": "execute_result"
    }
   ],
   "source": [
    "import os\n",
    "os.listdir('./c_gls_BA300-NRT_202306260000_GLOBE_S3_V3.1.1/')"
   ]
  },
  {
   "cell_type": "markdown",
   "metadata": {},
   "source": [
    "**Note**\n",
    "\n",
    "This demo is designed to download a small set of files, directly to the (limited) workspace of this notebook.\n",
    "\n",
    "To download larger sets of files\n",
    "* download this code as a stand-alone Python script (CGLS_catalogue_and_download.py), modify it and run it e.g. on your computer or your [Terrascope Virtual Machine](https://terrascope.be/en/services)\n",
    "* or save the list of URLs as a text file and provide that as input to download tools like [WinWget](https://winwget.sourceforge.net/), command-line [wget](https://www.gnu.org/software/wget/) or [curl](https://curl.se/)"
   ]
  }
 ],
 "metadata": {
  "kernelspec": {
   "display_name": "Python 3",
   "language": "python",
   "name": "python3"
  },
  "language_info": {
   "codemirror_mode": {
    "name": "ipython",
    "version": 3
   },
   "file_extension": ".py",
   "mimetype": "text/x-python",
   "name": "python",
   "nbconvert_exporter": "python",
   "pygments_lexer": "ipython3",
   "version": "3.6.8"
  }
 },
 "nbformat": 4,
 "nbformat_minor": 4
}
