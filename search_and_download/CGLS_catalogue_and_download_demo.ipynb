{
 "cells": [
  {
   "cell_type": "markdown",
   "metadata": {},
   "source": [
    "## Query Global Land product catalogue via OpenSearch API and download the products\n",
    "\n",
    "This notebook shows how to query the Global Land product catalogue service, that implements a standardized [OpenSearch interface](http://docs.opengeospatial.org/is/17-047r1/17-047r1.html).\n",
    "\n",
    "OpenSearch is a self-describing search. This means that the service describes how it can be used, which search filters (keys and allowed values) are available.\n",
    "For example: \n",
    "* [overall API description](https://globalland.vito.be/catalogue/description)\n",
    "* [description for searching Burnt Area collection](https://globalland.vito.be/catalogue/description?collection=clms_global_ba_300m_v3_daily_netcdf)\n",
    "\n",
    "The catalogue service can be used in a [Python client](https://github.com/VITObelgium/terracatalogueclient), that is available from VITO's [Terrascope](https://terrascope.be/en) platform, which allows for easy integration in Python notebooks and Python-based processing chains.\n",
    "\n",
    "In this demo, we'll show you how to search for Global Land products through this OpenSearch API and then download them.\n",
    "\n",
    "**Important!**\n",
    "We'll use the new collection of daily Burnt Area 300m v3.1.1 products as example. This API is a recent development - more product collections will become available in the course of 2023."
   ]
  },
  {
   "cell_type": "markdown",
   "metadata": {},
   "source": [
    "### Table of contents\n",
    "* [Install & import packages](#install-import)\n",
    "* [Discover collections](#discover-collections)\n",
    "* [Search products](#search-products)\n",
    "* [Download products](#download-products)"
   ]
  },
  {
   "cell_type": "markdown",
   "metadata": {},
   "source": [
    "#### Install & import packages <a class=\"anchor\" id=\"install-import\"></a>"
   ]
  },
  {
   "cell_type": "markdown",
   "metadata": {},
   "source": [
    "Let's start with installing the Python catalogue client from the python package repository:"
   ]
  },
  {
   "cell_type": "code",
   "execution_count": 6,
   "metadata": {},
   "outputs": [
    {
     "name": "stdout",
     "output_type": "stream",
     "text": [
      "\u001b[33mWARNING: You are using pip version 19.3.1; however, version 21.3.1 is available.\n",
      "You should consider upgrading via the 'pip install --upgrade pip' command.\u001b[0m\n"
     ]
    }
   ],
   "source": [
    "!pip3 install --user --quiet --index-url=https://artifactory.vgt.vito.be/api/pypi/python-packages/simple terracatalogueclient==0.1.16"
   ]
  },
  {
   "cell_type": "markdown",
   "metadata": {},
   "source": [
    "On the Terrascope virtual machines and Jupyter notebook environment, the catalogue client package is pre-installed for your convenience."
   ]
  },
  {
   "cell_type": "markdown",
   "metadata": {},
   "source": [
    "Next, we import some required packages and initialize the catalogue client."
   ]
  },
  {
   "cell_type": "code",
   "execution_count": 1,
   "metadata": {},
   "outputs": [],
   "source": [
    "from terracatalogueclient import Catalogue\n",
    "from terracatalogueclient.config import CatalogueConfig, CatalogueEnvironment"
   ]
  },
  {
   "cell_type": "markdown",
   "metadata": {},
   "source": [
    "Copy the configuration file from the Github repository to the same folder.\n",
    "Then use it to configure the catalogue client to query Global Land's catalogue."
   ]
  },
  {
   "cell_type": "code",
   "execution_count": 3,
   "metadata": {},
   "outputs": [],
   "source": [
    "config = CatalogueConfig.from_environment(CatalogueEnvironment.CGLS)\n",
    "catalogue = Catalogue(config)"
   ]
  },
  {
   "cell_type": "markdown",
   "metadata": {},
   "source": [
    "#### Discover collections <a class=\"anchor\" id=\"discover-collections\"></a>"
   ]
  },
  {
   "cell_type": "markdown",
   "metadata": {},
   "source": [
    "The get_collections() call can be used to discover which collections of Global Land products.\n",
    "At this moment, only the products for the daily Burnt Area v3.1.1 collection are available. All other Global Land collections will be added to this API."
   ]
  },
  {
   "cell_type": "code",
   "execution_count": 4,
   "metadata": {},
   "outputs": [
    {
     "data": {
      "text/html": [
       "<style  type=\"text/css\" >\n",
       "    #T_1989ca5c_53bb_11ee_b25c_487b6bac3345row0_col0 {\n",
       "            text-align:  left;\n",
       "        }    #T_1989ca5c_53bb_11ee_b25c_487b6bac3345row0_col1 {\n",
       "            text-align:  left;\n",
       "        }    #T_1989ca5c_53bb_11ee_b25c_487b6bac3345row1_col0 {\n",
       "            text-align:  left;\n",
       "        }    #T_1989ca5c_53bb_11ee_b25c_487b6bac3345row1_col1 {\n",
       "            text-align:  left;\n",
       "        }    #T_1989ca5c_53bb_11ee_b25c_487b6bac3345row2_col0 {\n",
       "            text-align:  left;\n",
       "        }    #T_1989ca5c_53bb_11ee_b25c_487b6bac3345row2_col1 {\n",
       "            text-align:  left;\n",
       "        }    #T_1989ca5c_53bb_11ee_b25c_487b6bac3345row3_col0 {\n",
       "            text-align:  left;\n",
       "        }    #T_1989ca5c_53bb_11ee_b25c_487b6bac3345row3_col1 {\n",
       "            text-align:  left;\n",
       "        }    #T_1989ca5c_53bb_11ee_b25c_487b6bac3345row4_col0 {\n",
       "            text-align:  left;\n",
       "        }    #T_1989ca5c_53bb_11ee_b25c_487b6bac3345row4_col1 {\n",
       "            text-align:  left;\n",
       "        }    #T_1989ca5c_53bb_11ee_b25c_487b6bac3345row5_col0 {\n",
       "            text-align:  left;\n",
       "        }    #T_1989ca5c_53bb_11ee_b25c_487b6bac3345row5_col1 {\n",
       "            text-align:  left;\n",
       "        }    #T_1989ca5c_53bb_11ee_b25c_487b6bac3345row6_col0 {\n",
       "            text-align:  left;\n",
       "        }    #T_1989ca5c_53bb_11ee_b25c_487b6bac3345row6_col1 {\n",
       "            text-align:  left;\n",
       "        }    #T_1989ca5c_53bb_11ee_b25c_487b6bac3345row7_col0 {\n",
       "            text-align:  left;\n",
       "        }    #T_1989ca5c_53bb_11ee_b25c_487b6bac3345row7_col1 {\n",
       "            text-align:  left;\n",
       "        }    #T_1989ca5c_53bb_11ee_b25c_487b6bac3345row8_col0 {\n",
       "            text-align:  left;\n",
       "        }    #T_1989ca5c_53bb_11ee_b25c_487b6bac3345row8_col1 {\n",
       "            text-align:  left;\n",
       "        }    #T_1989ca5c_53bb_11ee_b25c_487b6bac3345row9_col0 {\n",
       "            text-align:  left;\n",
       "        }    #T_1989ca5c_53bb_11ee_b25c_487b6bac3345row9_col1 {\n",
       "            text-align:  left;\n",
       "        }    #T_1989ca5c_53bb_11ee_b25c_487b6bac3345row10_col0 {\n",
       "            text-align:  left;\n",
       "        }    #T_1989ca5c_53bb_11ee_b25c_487b6bac3345row10_col1 {\n",
       "            text-align:  left;\n",
       "        }    #T_1989ca5c_53bb_11ee_b25c_487b6bac3345row11_col0 {\n",
       "            text-align:  left;\n",
       "        }    #T_1989ca5c_53bb_11ee_b25c_487b6bac3345row11_col1 {\n",
       "            text-align:  left;\n",
       "        }    #T_1989ca5c_53bb_11ee_b25c_487b6bac3345row12_col0 {\n",
       "            text-align:  left;\n",
       "        }    #T_1989ca5c_53bb_11ee_b25c_487b6bac3345row12_col1 {\n",
       "            text-align:  left;\n",
       "        }    #T_1989ca5c_53bb_11ee_b25c_487b6bac3345row13_col0 {\n",
       "            text-align:  left;\n",
       "        }    #T_1989ca5c_53bb_11ee_b25c_487b6bac3345row13_col1 {\n",
       "            text-align:  left;\n",
       "        }    #T_1989ca5c_53bb_11ee_b25c_487b6bac3345row14_col0 {\n",
       "            text-align:  left;\n",
       "        }    #T_1989ca5c_53bb_11ee_b25c_487b6bac3345row14_col1 {\n",
       "            text-align:  left;\n",
       "        }    #T_1989ca5c_53bb_11ee_b25c_487b6bac3345row15_col0 {\n",
       "            text-align:  left;\n",
       "        }    #T_1989ca5c_53bb_11ee_b25c_487b6bac3345row15_col1 {\n",
       "            text-align:  left;\n",
       "        }    #T_1989ca5c_53bb_11ee_b25c_487b6bac3345row16_col0 {\n",
       "            text-align:  left;\n",
       "        }    #T_1989ca5c_53bb_11ee_b25c_487b6bac3345row16_col1 {\n",
       "            text-align:  left;\n",
       "        }    #T_1989ca5c_53bb_11ee_b25c_487b6bac3345row17_col0 {\n",
       "            text-align:  left;\n",
       "        }    #T_1989ca5c_53bb_11ee_b25c_487b6bac3345row17_col1 {\n",
       "            text-align:  left;\n",
       "        }    #T_1989ca5c_53bb_11ee_b25c_487b6bac3345row18_col0 {\n",
       "            text-align:  left;\n",
       "        }    #T_1989ca5c_53bb_11ee_b25c_487b6bac3345row18_col1 {\n",
       "            text-align:  left;\n",
       "        }    #T_1989ca5c_53bb_11ee_b25c_487b6bac3345row19_col0 {\n",
       "            text-align:  left;\n",
       "        }    #T_1989ca5c_53bb_11ee_b25c_487b6bac3345row19_col1 {\n",
       "            text-align:  left;\n",
       "        }    #T_1989ca5c_53bb_11ee_b25c_487b6bac3345row20_col0 {\n",
       "            text-align:  left;\n",
       "        }    #T_1989ca5c_53bb_11ee_b25c_487b6bac3345row20_col1 {\n",
       "            text-align:  left;\n",
       "        }    #T_1989ca5c_53bb_11ee_b25c_487b6bac3345row21_col0 {\n",
       "            text-align:  left;\n",
       "        }    #T_1989ca5c_53bb_11ee_b25c_487b6bac3345row21_col1 {\n",
       "            text-align:  left;\n",
       "        }    #T_1989ca5c_53bb_11ee_b25c_487b6bac3345row22_col0 {\n",
       "            text-align:  left;\n",
       "        }    #T_1989ca5c_53bb_11ee_b25c_487b6bac3345row22_col1 {\n",
       "            text-align:  left;\n",
       "        }    #T_1989ca5c_53bb_11ee_b25c_487b6bac3345row23_col0 {\n",
       "            text-align:  left;\n",
       "        }    #T_1989ca5c_53bb_11ee_b25c_487b6bac3345row23_col1 {\n",
       "            text-align:  left;\n",
       "        }    #T_1989ca5c_53bb_11ee_b25c_487b6bac3345row24_col0 {\n",
       "            text-align:  left;\n",
       "        }    #T_1989ca5c_53bb_11ee_b25c_487b6bac3345row24_col1 {\n",
       "            text-align:  left;\n",
       "        }    #T_1989ca5c_53bb_11ee_b25c_487b6bac3345row25_col0 {\n",
       "            text-align:  left;\n",
       "        }    #T_1989ca5c_53bb_11ee_b25c_487b6bac3345row25_col1 {\n",
       "            text-align:  left;\n",
       "        }    #T_1989ca5c_53bb_11ee_b25c_487b6bac3345row26_col0 {\n",
       "            text-align:  left;\n",
       "        }    #T_1989ca5c_53bb_11ee_b25c_487b6bac3345row26_col1 {\n",
       "            text-align:  left;\n",
       "        }    #T_1989ca5c_53bb_11ee_b25c_487b6bac3345row27_col0 {\n",
       "            text-align:  left;\n",
       "        }    #T_1989ca5c_53bb_11ee_b25c_487b6bac3345row27_col1 {\n",
       "            text-align:  left;\n",
       "        }</style><table id=\"T_1989ca5c_53bb_11ee_b25c_487b6bac3345\" ><thead>    <tr>        <th class=\"blank level0\" ></th>        <th class=\"col_heading level0 col0\" >Identifier</th>        <th class=\"col_heading level0 col1\" >Description</th>    </tr></thead><tbody>\n",
       "                <tr>\n",
       "                        <th id=\"T_1989ca5c_53bb_11ee_b25c_487b6bac3345level0_row0\" class=\"row_heading level0 row0\" >0</th>\n",
       "                        <td id=\"T_1989ca5c_53bb_11ee_b25c_487b6bac3345row0_col0\" class=\"data row0 col0\" >clms_global_albh_1km_v1_10daily_netcdf</td>\n",
       "                        <td id=\"T_1989ca5c_53bb_11ee_b25c_487b6bac3345row0_col1\" class=\"data row0 col1\" >Broadband Hemispherical Surface Albedo: global 10-daily (raster 1km)</td>\n",
       "            </tr>\n",
       "            <tr>\n",
       "                        <th id=\"T_1989ca5c_53bb_11ee_b25c_487b6bac3345level0_row1\" class=\"row_heading level0 row1\" >1</th>\n",
       "                        <td id=\"T_1989ca5c_53bb_11ee_b25c_487b6bac3345row1_col0\" class=\"data row1 col0\" >clms_global_aldh_1km_v1_10daily_netcdf</td>\n",
       "                        <td id=\"T_1989ca5c_53bb_11ee_b25c_487b6bac3345row1_col1\" class=\"data row1 col1\" >Broadband Hemispherical Surface Albedo: global 10-daily (raster 1km)</td>\n",
       "            </tr>\n",
       "            <tr>\n",
       "                        <th id=\"T_1989ca5c_53bb_11ee_b25c_487b6bac3345level0_row2\" class=\"row_heading level0 row2\" >2</th>\n",
       "                        <td id=\"T_1989ca5c_53bb_11ee_b25c_487b6bac3345row2_col0\" class=\"data row2 col0\" >clms_global_ba_300m_v3_daily_netcdf</td>\n",
       "                        <td id=\"T_1989ca5c_53bb_11ee_b25c_487b6bac3345row2_col1\" class=\"data row2 col1\" >Burnt Area: global daily (raster 300m)</td>\n",
       "            </tr>\n",
       "            <tr>\n",
       "                        <th id=\"T_1989ca5c_53bb_11ee_b25c_487b6bac3345level0_row3\" class=\"row_heading level0 row3\" >3</th>\n",
       "                        <td id=\"T_1989ca5c_53bb_11ee_b25c_487b6bac3345row3_col0\" class=\"data row3 col0\" >clms_global_ba_300m_v3_monthly_netcdf</td>\n",
       "                        <td id=\"T_1989ca5c_53bb_11ee_b25c_487b6bac3345row3_col1\" class=\"data row3 col1\" >Burnt Area: global monthly (raster 300m)</td>\n",
       "            </tr>\n",
       "            <tr>\n",
       "                        <th id=\"T_1989ca5c_53bb_11ee_b25c_487b6bac3345level0_row4\" class=\"row_heading level0 row4\" >4</th>\n",
       "                        <td id=\"T_1989ca5c_53bb_11ee_b25c_487b6bac3345row4_col0\" class=\"data row4 col0\" >clms_global_dmp_1km_v2_10daily_netcdf</td>\n",
       "                        <td id=\"T_1989ca5c_53bb_11ee_b25c_487b6bac3345row4_col1\" class=\"data row4 col1\" >Dry Matter Productivity: global 10-daily (raster 1km)</td>\n",
       "            </tr>\n",
       "            <tr>\n",
       "                        <th id=\"T_1989ca5c_53bb_11ee_b25c_487b6bac3345level0_row5\" class=\"row_heading level0 row5\" >5</th>\n",
       "                        <td id=\"T_1989ca5c_53bb_11ee_b25c_487b6bac3345row5_col0\" class=\"data row5 col0\" >clms_global_dmp_300m_v1_10daily_netcdf</td>\n",
       "                        <td id=\"T_1989ca5c_53bb_11ee_b25c_487b6bac3345row5_col1\" class=\"data row5 col1\" >Dry Matter Productivity: global 10-daily (raster 300m)</td>\n",
       "            </tr>\n",
       "            <tr>\n",
       "                        <th id=\"T_1989ca5c_53bb_11ee_b25c_487b6bac3345level0_row6\" class=\"row_heading level0 row6\" >6</th>\n",
       "                        <td id=\"T_1989ca5c_53bb_11ee_b25c_487b6bac3345row6_col0\" class=\"data row6 col0\" >clms_global_fapar_1km_v1_10daily_netcdf</td>\n",
       "                        <td id=\"T_1989ca5c_53bb_11ee_b25c_487b6bac3345row6_col1\" class=\"data row6 col1\" >Fraction of Absorbed Photosynthetically Active Radiation: global 10-daily (raster 1km)</td>\n",
       "            </tr>\n",
       "            <tr>\n",
       "                        <th id=\"T_1989ca5c_53bb_11ee_b25c_487b6bac3345level0_row7\" class=\"row_heading level0 row7\" >7</th>\n",
       "                        <td id=\"T_1989ca5c_53bb_11ee_b25c_487b6bac3345row7_col0\" class=\"data row7 col0\" >clms_global_fapar_1km_v2_10daily_netcdf</td>\n",
       "                        <td id=\"T_1989ca5c_53bb_11ee_b25c_487b6bac3345row7_col1\" class=\"data row7 col1\" >Fraction of Absorbed Photosynthetically Active Radiation: global 10-daily (raster 1km)</td>\n",
       "            </tr>\n",
       "            <tr>\n",
       "                        <th id=\"T_1989ca5c_53bb_11ee_b25c_487b6bac3345level0_row8\" class=\"row_heading level0 row8\" >8</th>\n",
       "                        <td id=\"T_1989ca5c_53bb_11ee_b25c_487b6bac3345row8_col0\" class=\"data row8 col0\" >clms_global_fapar_300m_v1_10daily_netcdf</td>\n",
       "                        <td id=\"T_1989ca5c_53bb_11ee_b25c_487b6bac3345row8_col1\" class=\"data row8 col1\" >Fraction of Absorbed Photosynthetically Active Radiation: global 10-daily (raster 300m)</td>\n",
       "            </tr>\n",
       "            <tr>\n",
       "                        <th id=\"T_1989ca5c_53bb_11ee_b25c_487b6bac3345level0_row9\" class=\"row_heading level0 row9\" >9</th>\n",
       "                        <td id=\"T_1989ca5c_53bb_11ee_b25c_487b6bac3345row9_col0\" class=\"data row9 col0\" >clms_global_fcover_1km_v1_10daily_netcdf</td>\n",
       "                        <td id=\"T_1989ca5c_53bb_11ee_b25c_487b6bac3345row9_col1\" class=\"data row9 col1\" >Fraction of Absorbed Photosynthetically Active Radiation: global 10-daily (raster 1km)</td>\n",
       "            </tr>\n",
       "            <tr>\n",
       "                        <th id=\"T_1989ca5c_53bb_11ee_b25c_487b6bac3345level0_row10\" class=\"row_heading level0 row10\" >10</th>\n",
       "                        <td id=\"T_1989ca5c_53bb_11ee_b25c_487b6bac3345row10_col0\" class=\"data row10 col0\" >clms_global_fcover_1km_v2_10daily_netcdf</td>\n",
       "                        <td id=\"T_1989ca5c_53bb_11ee_b25c_487b6bac3345row10_col1\" class=\"data row10 col1\" >Fraction of Absorbed Photosynthetically Active Radiation: global 10-daily (raster 1km)</td>\n",
       "            </tr>\n",
       "            <tr>\n",
       "                        <th id=\"T_1989ca5c_53bb_11ee_b25c_487b6bac3345level0_row11\" class=\"row_heading level0 row11\" >11</th>\n",
       "                        <td id=\"T_1989ca5c_53bb_11ee_b25c_487b6bac3345row11_col0\" class=\"data row11 col0\" >clms_global_fcover_300m_v1_10daily_netcdf</td>\n",
       "                        <td id=\"T_1989ca5c_53bb_11ee_b25c_487b6bac3345row11_col1\" class=\"data row11 col1\" >Fraction of Vegetation Cover: global 10-daily (raster 300m)</td>\n",
       "            </tr>\n",
       "            <tr>\n",
       "                        <th id=\"T_1989ca5c_53bb_11ee_b25c_487b6bac3345level0_row12\" class=\"row_heading level0 row12\" >12</th>\n",
       "                        <td id=\"T_1989ca5c_53bb_11ee_b25c_487b6bac3345row12_col0\" class=\"data row12 col0\" >clms_global_gdmp_1km_v2_10daily_netcdf</td>\n",
       "                        <td id=\"T_1989ca5c_53bb_11ee_b25c_487b6bac3345row12_col1\" class=\"data row12 col1\" >Gross Dry Matter Productivity: global 10-daily (raster 1km)</td>\n",
       "            </tr>\n",
       "            <tr>\n",
       "                        <th id=\"T_1989ca5c_53bb_11ee_b25c_487b6bac3345level0_row13\" class=\"row_heading level0 row13\" >13</th>\n",
       "                        <td id=\"T_1989ca5c_53bb_11ee_b25c_487b6bac3345row13_col0\" class=\"data row13 col0\" >clms_global_gdmp_300m_v1_10daily_netcdf</td>\n",
       "                        <td id=\"T_1989ca5c_53bb_11ee_b25c_487b6bac3345row13_col1\" class=\"data row13 col1\" >Gross Dry Matter Productivity: global 10-daily (raster 300m)</td>\n",
       "            </tr>\n",
       "            <tr>\n",
       "                        <th id=\"T_1989ca5c_53bb_11ee_b25c_487b6bac3345level0_row14\" class=\"row_heading level0 row14\" >14</th>\n",
       "                        <td id=\"T_1989ca5c_53bb_11ee_b25c_487b6bac3345row14_col0\" class=\"data row14 col0\" >clms_global_gpp_300m_v1_10daily_netcdf</td>\n",
       "                        <td id=\"T_1989ca5c_53bb_11ee_b25c_487b6bac3345row14_col1\" class=\"data row14 col1\" >Gross Primary Productivity: global 10-daily (raster 300m)</td>\n",
       "            </tr>\n",
       "            <tr>\n",
       "                        <th id=\"T_1989ca5c_53bb_11ee_b25c_487b6bac3345level0_row15\" class=\"row_heading level0 row15\" >15</th>\n",
       "                        <td id=\"T_1989ca5c_53bb_11ee_b25c_487b6bac3345row15_col0\" class=\"data row15 col0\" >clms_global_lai_1km_v1_10daily_netcdf</td>\n",
       "                        <td id=\"T_1989ca5c_53bb_11ee_b25c_487b6bac3345row15_col1\" class=\"data row15 col1\" >Leaf Area Index: global 10-daily (raster 1km)</td>\n",
       "            </tr>\n",
       "            <tr>\n",
       "                        <th id=\"T_1989ca5c_53bb_11ee_b25c_487b6bac3345level0_row16\" class=\"row_heading level0 row16\" >16</th>\n",
       "                        <td id=\"T_1989ca5c_53bb_11ee_b25c_487b6bac3345row16_col0\" class=\"data row16 col0\" >clms_global_lai_1km_v2_10daily_netcdf</td>\n",
       "                        <td id=\"T_1989ca5c_53bb_11ee_b25c_487b6bac3345row16_col1\" class=\"data row16 col1\" >Leaf Area Index: global 10-daily (raster 1km)</td>\n",
       "            </tr>\n",
       "            <tr>\n",
       "                        <th id=\"T_1989ca5c_53bb_11ee_b25c_487b6bac3345level0_row17\" class=\"row_heading level0 row17\" >17</th>\n",
       "                        <td id=\"T_1989ca5c_53bb_11ee_b25c_487b6bac3345row17_col0\" class=\"data row17 col0\" >clms_global_lai_300m_v1_10daily_netcdf</td>\n",
       "                        <td id=\"T_1989ca5c_53bb_11ee_b25c_487b6bac3345row17_col1\" class=\"data row17 col1\" >Leaf Area Index: global 10-daily (raster 300m)</td>\n",
       "            </tr>\n",
       "            <tr>\n",
       "                        <th id=\"T_1989ca5c_53bb_11ee_b25c_487b6bac3345level0_row18\" class=\"row_heading level0 row18\" >18</th>\n",
       "                        <td id=\"T_1989ca5c_53bb_11ee_b25c_487b6bac3345row18_col0\" class=\"data row18 col0\" >clms_global_ndvi_1km_v2_10daily_netcdf</td>\n",
       "                        <td id=\"T_1989ca5c_53bb_11ee_b25c_487b6bac3345row18_col1\" class=\"data row18 col1\" >Normalized Difference Vegetation Index: global 10-daily (raster 1km)</td>\n",
       "            </tr>\n",
       "            <tr>\n",
       "                        <th id=\"T_1989ca5c_53bb_11ee_b25c_487b6bac3345level0_row19\" class=\"row_heading level0 row19\" >19</th>\n",
       "                        <td id=\"T_1989ca5c_53bb_11ee_b25c_487b6bac3345row19_col0\" class=\"data row19 col0\" >clms_global_ndvi_1km_v3_10daily_netcdf</td>\n",
       "                        <td id=\"T_1989ca5c_53bb_11ee_b25c_487b6bac3345row19_col1\" class=\"data row19 col1\" >Normalized Difference Vegetation Index: global 10-daily (raster 1km)</td>\n",
       "            </tr>\n",
       "            <tr>\n",
       "                        <th id=\"T_1989ca5c_53bb_11ee_b25c_487b6bac3345level0_row20\" class=\"row_heading level0 row20\" >20</th>\n",
       "                        <td id=\"T_1989ca5c_53bb_11ee_b25c_487b6bac3345row20_col0\" class=\"data row20 col0\" >clms_global_ndvi_300m_v1_10daily_netcdf</td>\n",
       "                        <td id=\"T_1989ca5c_53bb_11ee_b25c_487b6bac3345row20_col1\" class=\"data row20 col1\" >Normalized Difference Vegetation Index: global 10-daily (raster 300m)</td>\n",
       "            </tr>\n",
       "            <tr>\n",
       "                        <th id=\"T_1989ca5c_53bb_11ee_b25c_487b6bac3345level0_row21\" class=\"row_heading level0 row21\" >21</th>\n",
       "                        <td id=\"T_1989ca5c_53bb_11ee_b25c_487b6bac3345row21_col0\" class=\"data row21 col0\" >clms_global_ndvi_300m_v2_10daily_netcdf</td>\n",
       "                        <td id=\"T_1989ca5c_53bb_11ee_b25c_487b6bac3345row21_col1\" class=\"data row21 col1\" >Normalized Difference Vegetation Index: global 10-daily (raster 300m)</td>\n",
       "            </tr>\n",
       "            <tr>\n",
       "                        <th id=\"T_1989ca5c_53bb_11ee_b25c_487b6bac3345level0_row22\" class=\"row_heading level0 row22\" >22</th>\n",
       "                        <td id=\"T_1989ca5c_53bb_11ee_b25c_487b6bac3345row22_col0\" class=\"data row22 col0\" >clms_global_npp_300m_v1_10daily_netcdf</td>\n",
       "                        <td id=\"T_1989ca5c_53bb_11ee_b25c_487b6bac3345row22_col1\" class=\"data row22 col1\" >Net Primary Productivity: global 10-daily (raster 300m)</td>\n",
       "            </tr>\n",
       "            <tr>\n",
       "                        <th id=\"T_1989ca5c_53bb_11ee_b25c_487b6bac3345level0_row23\" class=\"row_heading level0 row23\" >23</th>\n",
       "                        <td id=\"T_1989ca5c_53bb_11ee_b25c_487b6bac3345row23_col0\" class=\"data row23 col0\" >clms_global_ssm_1km_v1_daily_netcdf</td>\n",
       "                        <td id=\"T_1989ca5c_53bb_11ee_b25c_487b6bac3345row23_col1\" class=\"data row23 col1\" >Surface Soil Moisture: global daily (raster 1 km)</td>\n",
       "            </tr>\n",
       "            <tr>\n",
       "                        <th id=\"T_1989ca5c_53bb_11ee_b25c_487b6bac3345level0_row24\" class=\"row_heading level0 row24\" >24</th>\n",
       "                        <td id=\"T_1989ca5c_53bb_11ee_b25c_487b6bac3345row24_col0\" class=\"data row24 col0\" >clms_global_swi_12.5km_v3_10daily_netcdf</td>\n",
       "                        <td id=\"T_1989ca5c_53bb_11ee_b25c_487b6bac3345row24_col1\" class=\"data row24 col1\" >Soil Water Index: global 10-daily (raster 12.5 km)</td>\n",
       "            </tr>\n",
       "            <tr>\n",
       "                        <th id=\"T_1989ca5c_53bb_11ee_b25c_487b6bac3345level0_row25\" class=\"row_heading level0 row25\" >25</th>\n",
       "                        <td id=\"T_1989ca5c_53bb_11ee_b25c_487b6bac3345row25_col0\" class=\"data row25 col0\" >clms_global_swi_12.5km_v3_daily_netcdf</td>\n",
       "                        <td id=\"T_1989ca5c_53bb_11ee_b25c_487b6bac3345row25_col1\" class=\"data row25 col1\" >Soil Water Index: global daily (raster 12.5 km)</td>\n",
       "            </tr>\n",
       "            <tr>\n",
       "                        <th id=\"T_1989ca5c_53bb_11ee_b25c_487b6bac3345level0_row26\" class=\"row_heading level0 row26\" >26</th>\n",
       "                        <td id=\"T_1989ca5c_53bb_11ee_b25c_487b6bac3345row26_col0\" class=\"data row26 col0\" >clms_global_swi_1km_v1_daily_netcdf</td>\n",
       "                        <td id=\"T_1989ca5c_53bb_11ee_b25c_487b6bac3345row26_col1\" class=\"data row26 col1\" >Soil Water Index: global daily (raster 1 km)</td>\n",
       "            </tr>\n",
       "            <tr>\n",
       "                        <th id=\"T_1989ca5c_53bb_11ee_b25c_487b6bac3345level0_row27\" class=\"row_heading level0 row27\" >27</th>\n",
       "                        <td id=\"T_1989ca5c_53bb_11ee_b25c_487b6bac3345row27_col0\" class=\"data row27 col0\" >clms_global_tocr_1km_v1_10daily_netcdf</td>\n",
       "                        <td id=\"T_1989ca5c_53bb_11ee_b25c_487b6bac3345row27_col1\" class=\"data row27 col1\" >op Of Canopy Reflectance: global 10-daily (raster 1km)</td>\n",
       "            </tr>\n",
       "    </tbody></table>"
      ],
      "text/plain": [
       "<pandas.io.formats.style.Styler at 0x7f3802071208>"
      ]
     },
     "execution_count": 4,
     "metadata": {},
     "output_type": "execute_result"
    }
   ],
   "source": [
    "import pandas as pd\n",
    "collections = catalogue.get_collections()\n",
    "\n",
    "rows = []\n",
    "for c in collections:\n",
    "    rows.append([c.id, c.properties['title']])\n",
    "\n",
    "df = pd.DataFrame(data = rows, columns = ['Identifier', 'Description'])\n",
    "df.style.set_properties(**{'text-align': 'left'})"
   ]
  },
  {
   "cell_type": "markdown",
   "metadata": {},
   "source": [
    "#### Search products <a class=\"anchor\" id=\"search-products\"></a>"
   ]
  },
  {
   "cell_type": "markdown",
   "metadata": {},
   "source": [
    "Using one of the above collection identifiers, let's search for the available daily burnt area products.\n",
    "\n",
    "The get_products() call supports filtering time period that the product covers (start/end parameters), or date when the file was last updated (modificationDate)"
   ]
  },
  {
   "cell_type": "code",
   "execution_count": 5,
   "metadata": {},
   "outputs": [
    {
     "data": {
      "text/html": [
       "<style  type=\"text/css\" >\n",
       "    #T_3774e0ba_53bb_11ee_b25c_487b6bac3345row0_col0 {\n",
       "            text-align:  left;\n",
       "        }    #T_3774e0ba_53bb_11ee_b25c_487b6bac3345row0_col1 {\n",
       "            text-align:  left;\n",
       "        }    #T_3774e0ba_53bb_11ee_b25c_487b6bac3345row0_col2 {\n",
       "            text-align:  left;\n",
       "        }    #T_3774e0ba_53bb_11ee_b25c_487b6bac3345row1_col0 {\n",
       "            text-align:  left;\n",
       "        }    #T_3774e0ba_53bb_11ee_b25c_487b6bac3345row1_col1 {\n",
       "            text-align:  left;\n",
       "        }    #T_3774e0ba_53bb_11ee_b25c_487b6bac3345row1_col2 {\n",
       "            text-align:  left;\n",
       "        }    #T_3774e0ba_53bb_11ee_b25c_487b6bac3345row2_col0 {\n",
       "            text-align:  left;\n",
       "        }    #T_3774e0ba_53bb_11ee_b25c_487b6bac3345row2_col1 {\n",
       "            text-align:  left;\n",
       "        }    #T_3774e0ba_53bb_11ee_b25c_487b6bac3345row2_col2 {\n",
       "            text-align:  left;\n",
       "        }    #T_3774e0ba_53bb_11ee_b25c_487b6bac3345row3_col0 {\n",
       "            text-align:  left;\n",
       "        }    #T_3774e0ba_53bb_11ee_b25c_487b6bac3345row3_col1 {\n",
       "            text-align:  left;\n",
       "        }    #T_3774e0ba_53bb_11ee_b25c_487b6bac3345row3_col2 {\n",
       "            text-align:  left;\n",
       "        }    #T_3774e0ba_53bb_11ee_b25c_487b6bac3345row4_col0 {\n",
       "            text-align:  left;\n",
       "        }    #T_3774e0ba_53bb_11ee_b25c_487b6bac3345row4_col1 {\n",
       "            text-align:  left;\n",
       "        }    #T_3774e0ba_53bb_11ee_b25c_487b6bac3345row4_col2 {\n",
       "            text-align:  left;\n",
       "        }    #T_3774e0ba_53bb_11ee_b25c_487b6bac3345row5_col0 {\n",
       "            text-align:  left;\n",
       "        }    #T_3774e0ba_53bb_11ee_b25c_487b6bac3345row5_col1 {\n",
       "            text-align:  left;\n",
       "        }    #T_3774e0ba_53bb_11ee_b25c_487b6bac3345row5_col2 {\n",
       "            text-align:  left;\n",
       "        }    #T_3774e0ba_53bb_11ee_b25c_487b6bac3345row6_col0 {\n",
       "            text-align:  left;\n",
       "        }    #T_3774e0ba_53bb_11ee_b25c_487b6bac3345row6_col1 {\n",
       "            text-align:  left;\n",
       "        }    #T_3774e0ba_53bb_11ee_b25c_487b6bac3345row6_col2 {\n",
       "            text-align:  left;\n",
       "        }    #T_3774e0ba_53bb_11ee_b25c_487b6bac3345row7_col0 {\n",
       "            text-align:  left;\n",
       "        }    #T_3774e0ba_53bb_11ee_b25c_487b6bac3345row7_col1 {\n",
       "            text-align:  left;\n",
       "        }    #T_3774e0ba_53bb_11ee_b25c_487b6bac3345row7_col2 {\n",
       "            text-align:  left;\n",
       "        }    #T_3774e0ba_53bb_11ee_b25c_487b6bac3345row8_col0 {\n",
       "            text-align:  left;\n",
       "        }    #T_3774e0ba_53bb_11ee_b25c_487b6bac3345row8_col1 {\n",
       "            text-align:  left;\n",
       "        }    #T_3774e0ba_53bb_11ee_b25c_487b6bac3345row8_col2 {\n",
       "            text-align:  left;\n",
       "        }    #T_3774e0ba_53bb_11ee_b25c_487b6bac3345row9_col0 {\n",
       "            text-align:  left;\n",
       "        }    #T_3774e0ba_53bb_11ee_b25c_487b6bac3345row9_col1 {\n",
       "            text-align:  left;\n",
       "        }    #T_3774e0ba_53bb_11ee_b25c_487b6bac3345row9_col2 {\n",
       "            text-align:  left;\n",
       "        }</style><table id=\"T_3774e0ba_53bb_11ee_b25c_487b6bac3345\" ><thead>    <tr>        <th class=\"blank level0\" ></th>        <th class=\"col_heading level0 col0\" >Identifier</th>        <th class=\"col_heading level0 col1\" >URL</th>        <th class=\"col_heading level0 col2\" >Size (MB)</th>    </tr></thead><tbody>\n",
       "                <tr>\n",
       "                        <th id=\"T_3774e0ba_53bb_11ee_b25c_487b6bac3345level0_row0\" class=\"row_heading level0 row0\" >0</th>\n",
       "                        <td id=\"T_3774e0ba_53bb_11ee_b25c_487b6bac3345row0_col0\" class=\"data row0 col0\" >c_gls_BA300-NRT_202309010000_GLOBE_S3_V3.1.1</td>\n",
       "                        <td id=\"T_3774e0ba_53bb_11ee_b25c_487b6bac3345row0_col1\" class=\"data row0 col1\" >https://globalland.vito.be/download/netcdf/burnt_area/ba_300m_v3_daily/2023/20230901/c_gls_BA300-NRT_202309010000_GLOBE_S3_V3.1.1.nc</td>\n",
       "                        <td id=\"T_3774e0ba_53bb_11ee_b25c_487b6bac3345row0_col2\" class=\"data row0 col2\" >56.8605</td>\n",
       "            </tr>\n",
       "            <tr>\n",
       "                        <th id=\"T_3774e0ba_53bb_11ee_b25c_487b6bac3345level0_row1\" class=\"row_heading level0 row1\" >1</th>\n",
       "                        <td id=\"T_3774e0ba_53bb_11ee_b25c_487b6bac3345row1_col0\" class=\"data row1 col0\" >c_gls_BA300-NRT_202309020000_GLOBE_S3_V3.1.1</td>\n",
       "                        <td id=\"T_3774e0ba_53bb_11ee_b25c_487b6bac3345row1_col1\" class=\"data row1 col1\" >https://globalland.vito.be/download/netcdf/burnt_area/ba_300m_v3_daily/2023/20230902/c_gls_BA300-NRT_202309020000_GLOBE_S3_V3.1.1.nc</td>\n",
       "                        <td id=\"T_3774e0ba_53bb_11ee_b25c_487b6bac3345row1_col2\" class=\"data row1 col2\" >58.2878</td>\n",
       "            </tr>\n",
       "            <tr>\n",
       "                        <th id=\"T_3774e0ba_53bb_11ee_b25c_487b6bac3345level0_row2\" class=\"row_heading level0 row2\" >2</th>\n",
       "                        <td id=\"T_3774e0ba_53bb_11ee_b25c_487b6bac3345row2_col0\" class=\"data row2 col0\" >c_gls_BA300-NRT_202309030000_GLOBE_S3_V3.1.1</td>\n",
       "                        <td id=\"T_3774e0ba_53bb_11ee_b25c_487b6bac3345row2_col1\" class=\"data row2 col1\" >https://globalland.vito.be/download/netcdf/burnt_area/ba_300m_v3_daily/2023/20230903/c_gls_BA300-NRT_202309030000_GLOBE_S3_V3.1.1.nc</td>\n",
       "                        <td id=\"T_3774e0ba_53bb_11ee_b25c_487b6bac3345row2_col2\" class=\"data row2 col2\" >57.5468</td>\n",
       "            </tr>\n",
       "            <tr>\n",
       "                        <th id=\"T_3774e0ba_53bb_11ee_b25c_487b6bac3345level0_row3\" class=\"row_heading level0 row3\" >3</th>\n",
       "                        <td id=\"T_3774e0ba_53bb_11ee_b25c_487b6bac3345row3_col0\" class=\"data row3 col0\" >c_gls_BA300-NRT_202309040000_GLOBE_S3_V3.1.1</td>\n",
       "                        <td id=\"T_3774e0ba_53bb_11ee_b25c_487b6bac3345row3_col1\" class=\"data row3 col1\" >https://globalland.vito.be/download/netcdf/burnt_area/ba_300m_v3_daily/2023/20230904/c_gls_BA300-NRT_202309040000_GLOBE_S3_V3.1.1.nc</td>\n",
       "                        <td id=\"T_3774e0ba_53bb_11ee_b25c_487b6bac3345row3_col2\" class=\"data row3 col2\" >56.6784</td>\n",
       "            </tr>\n",
       "            <tr>\n",
       "                        <th id=\"T_3774e0ba_53bb_11ee_b25c_487b6bac3345level0_row4\" class=\"row_heading level0 row4\" >4</th>\n",
       "                        <td id=\"T_3774e0ba_53bb_11ee_b25c_487b6bac3345row4_col0\" class=\"data row4 col0\" >c_gls_BA300-NRT_202309050000_GLOBE_S3_V3.1.1</td>\n",
       "                        <td id=\"T_3774e0ba_53bb_11ee_b25c_487b6bac3345row4_col1\" class=\"data row4 col1\" >https://globalland.vito.be/download/netcdf/burnt_area/ba_300m_v3_daily/2023/20230905/c_gls_BA300-NRT_202309050000_GLOBE_S3_V3.1.1.nc</td>\n",
       "                        <td id=\"T_3774e0ba_53bb_11ee_b25c_487b6bac3345row4_col2\" class=\"data row4 col2\" >56.6753</td>\n",
       "            </tr>\n",
       "            <tr>\n",
       "                        <th id=\"T_3774e0ba_53bb_11ee_b25c_487b6bac3345level0_row5\" class=\"row_heading level0 row5\" >5</th>\n",
       "                        <td id=\"T_3774e0ba_53bb_11ee_b25c_487b6bac3345row5_col0\" class=\"data row5 col0\" >c_gls_BA300-NRT_202309060000_GLOBE_S3_V3.1.1</td>\n",
       "                        <td id=\"T_3774e0ba_53bb_11ee_b25c_487b6bac3345row5_col1\" class=\"data row5 col1\" >https://globalland.vito.be/download/netcdf/burnt_area/ba_300m_v3_daily/2023/20230906/c_gls_BA300-NRT_202309060000_GLOBE_S3_V3.1.1.nc</td>\n",
       "                        <td id=\"T_3774e0ba_53bb_11ee_b25c_487b6bac3345row5_col2\" class=\"data row5 col2\" >57.2469</td>\n",
       "            </tr>\n",
       "            <tr>\n",
       "                        <th id=\"T_3774e0ba_53bb_11ee_b25c_487b6bac3345level0_row6\" class=\"row_heading level0 row6\" >6</th>\n",
       "                        <td id=\"T_3774e0ba_53bb_11ee_b25c_487b6bac3345row6_col0\" class=\"data row6 col0\" >c_gls_BA300-NRT_202309070000_GLOBE_S3_V3.1.1</td>\n",
       "                        <td id=\"T_3774e0ba_53bb_11ee_b25c_487b6bac3345row6_col1\" class=\"data row6 col1\" >https://globalland.vito.be/download/netcdf/burnt_area/ba_300m_v3_daily/2023/20230907/c_gls_BA300-NRT_202309070000_GLOBE_S3_V3.1.1.nc</td>\n",
       "                        <td id=\"T_3774e0ba_53bb_11ee_b25c_487b6bac3345row6_col2\" class=\"data row6 col2\" >57.7084</td>\n",
       "            </tr>\n",
       "            <tr>\n",
       "                        <th id=\"T_3774e0ba_53bb_11ee_b25c_487b6bac3345level0_row7\" class=\"row_heading level0 row7\" >7</th>\n",
       "                        <td id=\"T_3774e0ba_53bb_11ee_b25c_487b6bac3345row7_col0\" class=\"data row7 col0\" >c_gls_BA300-NRT_202309080000_GLOBE_S3_V3.1.1</td>\n",
       "                        <td id=\"T_3774e0ba_53bb_11ee_b25c_487b6bac3345row7_col1\" class=\"data row7 col1\" >https://globalland.vito.be/download/netcdf/burnt_area/ba_300m_v3_daily/2023/20230908/c_gls_BA300-NRT_202309080000_GLOBE_S3_V3.1.1.nc</td>\n",
       "                        <td id=\"T_3774e0ba_53bb_11ee_b25c_487b6bac3345row7_col2\" class=\"data row7 col2\" >57.1742</td>\n",
       "            </tr>\n",
       "            <tr>\n",
       "                        <th id=\"T_3774e0ba_53bb_11ee_b25c_487b6bac3345level0_row8\" class=\"row_heading level0 row8\" >8</th>\n",
       "                        <td id=\"T_3774e0ba_53bb_11ee_b25c_487b6bac3345row8_col0\" class=\"data row8 col0\" >c_gls_BA300-NRT_202309090000_GLOBE_S3_V3.1.1</td>\n",
       "                        <td id=\"T_3774e0ba_53bb_11ee_b25c_487b6bac3345row8_col1\" class=\"data row8 col1\" >https://globalland.vito.be/download/netcdf/burnt_area/ba_300m_v3_daily/2023/20230909/c_gls_BA300-NRT_202309090000_GLOBE_S3_V3.1.1.nc</td>\n",
       "                        <td id=\"T_3774e0ba_53bb_11ee_b25c_487b6bac3345row8_col2\" class=\"data row8 col2\" >56.6014</td>\n",
       "            </tr>\n",
       "            <tr>\n",
       "                        <th id=\"T_3774e0ba_53bb_11ee_b25c_487b6bac3345level0_row9\" class=\"row_heading level0 row9\" >9</th>\n",
       "                        <td id=\"T_3774e0ba_53bb_11ee_b25c_487b6bac3345row9_col0\" class=\"data row9 col0\" >c_gls_BA300-NRT_202309100000_GLOBE_S3_V3.1.1</td>\n",
       "                        <td id=\"T_3774e0ba_53bb_11ee_b25c_487b6bac3345row9_col1\" class=\"data row9 col1\" >https://globalland.vito.be/download/netcdf/burnt_area/ba_300m_v3_daily/2023/20230910/c_gls_BA300-NRT_202309100000_GLOBE_S3_V3.1.1.nc</td>\n",
       "                        <td id=\"T_3774e0ba_53bb_11ee_b25c_487b6bac3345row9_col2\" class=\"data row9 col2\" >56.7767</td>\n",
       "            </tr>\n",
       "    </tbody></table>"
      ],
      "text/plain": [
       "<pandas.io.formats.style.Styler at 0x7f38006e2588>"
      ]
     },
     "execution_count": 5,
     "metadata": {},
     "output_type": "execute_result"
    }
   ],
   "source": [
    "import pandas as pd\n",
    "import datetime as dt\n",
    "\n",
    "rows = []\n",
    "products = catalogue.get_products(\n",
    "    \"clms_global_ba_300m_v3_daily_netcdf\",\n",
    "    start=dt.date(2023, 9, 1),\n",
    "    end=dt.date(2023, 9, 10),\n",
    ")\n",
    "for product in products:\n",
    "    rows.append([product.id, product.data[0].href, (product.data[0].length/(1024*1024))])\n",
    "\n",
    "df = pd.DataFrame(data = rows, columns = ['Identifier', 'URL', 'Size (MB)'])\n",
    "df.style.set_properties(**{'text-align': 'left'})"
   ]
  },
  {
   "cell_type": "markdown",
   "metadata": {},
   "source": [
    "For a list of available search options, see the opensearch description document or the available help:\n",
    "\n",
    "*help(catalogue.get_products)*"
   ]
  },
  {
   "cell_type": "markdown",
   "metadata": {},
   "source": [
    "#### Download products <a class=\"anchor\" id=\"download-products\"></a>"
   ]
  },
  {
   "cell_type": "markdown",
   "metadata": {},
   "source": [
    "The product download is free and fully open - it does not require any username or password.\n",
    "\n",
    "Note that the above get_products() call returns a Python generator! \n",
    "If you want to be able to iterate over the results more than once, you can convert it to a list.\n",
    "Keep in mind that such a conversion loads all results in memory. If the number of products found is very high (e.g. hourly LST has tens of thousands of files), then the list can take up a lot of the memory."
   ]
  },
  {
   "cell_type": "code",
   "execution_count": 6,
   "metadata": {},
   "outputs": [],
   "source": [
    "product_list = list(catalogue.get_products(\n",
    "    \"clms_global_ba_300m_v3_daily_netcdf\",\n",
    "    start=dt.date(2023, 6, 26),\n",
    "    end=dt.date(2023, 6, 30),\n",
    "))"
   ]
  },
  {
   "cell_type": "markdown",
   "metadata": {},
   "source": [
    "Let's actually download the files to the directory where this notebook resides.\n",
    "\n",
    "Depending on the connection speed and data volume, this can take a few minutes."
   ]
  },
  {
   "cell_type": "code",
   "execution_count": 6,
   "metadata": {},
   "outputs": [
    {
     "name": "stdin",
     "output_type": "stream",
     "text": [
      "You are about to download 307.85 MB, do you want to continue? [Y/n]  Y\n"
     ]
    }
   ],
   "source": [
    "catalogue.download_products(product_list, './')"
   ]
  },
  {
   "cell_type": "markdown",
   "metadata": {},
   "source": [
    "Finally, let's check if the data files are downloaded.\n",
    "\n",
    "The download_products() call stores the downloaded files in folders, named after the product identifier."
   ]
  },
  {
   "cell_type": "code",
   "execution_count": 7,
   "metadata": {},
   "outputs": [
    {
     "data": {
      "text/plain": [
       "['c_gls_BA300-NRT_202306260000_GLOBE_S3_V3.1.1.nc']"
      ]
     },
     "execution_count": 7,
     "metadata": {},
     "output_type": "execute_result"
    }
   ],
   "source": [
    "import os\n",
    "os.listdir('./c_gls_BA300-NRT_202306260000_GLOBE_S3_V3.1.1/')"
   ]
  },
  {
   "cell_type": "markdown",
   "metadata": {},
   "source": [
    "**Note**\n",
    "\n",
    "This demo is designed to download a small set of files, directly to the (limited) workspace of this notebook.\n",
    "\n",
    "To download larger sets of files\n",
    "* download this code as a stand-alone Python script (CGLS_catalogue_and_download.py), modify it and run it e.g. on your computer or your [Terrascope Virtual Machine](https://terrascope.be/en/services)\n",
    "* or save the list of URLs as a text file and provide that as input to download tools like [WinWget](https://winwget.sourceforge.net/), command-line [wget](https://www.gnu.org/software/wget/) or [curl](https://curl.se/)"
   ]
  }
 ],
 "metadata": {
  "kernelspec": {
   "display_name": "Python 3",
   "language": "python",
   "name": "python3"
  },
  "language_info": {
   "codemirror_mode": {
    "name": "ipython",
    "version": 3
   },
   "file_extension": ".py",
   "mimetype": "text/x-python",
   "name": "python",
   "nbconvert_exporter": "python",
   "pygments_lexer": "ipython3",
   "version": "3.6.8"
  }
 },
 "nbformat": 4,
 "nbformat_minor": 4
}
